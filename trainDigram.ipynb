{
 "cells": [
  {
   "cell_type": "code",
   "execution_count": 8,
   "id": "81968895",
   "metadata": {},
   "outputs": [],
   "source": [
    "import matplotlib.pyplot as plt"
   ]
  },
  {
   "cell_type": "code",
   "execution_count": null,
   "id": "81bcc612",
   "metadata": {},
   "outputs": [],
   "source": []
  },
  {
   "cell_type": "code",
   "execution_count": null,
   "id": "a27a2503",
   "metadata": {},
   "outputs": [],
   "source": []
  },
  {
   "cell_type": "code",
   "execution_count": 22,
   "id": "552d165e",
   "metadata": {},
   "outputs": [],
   "source": [
    "class TrainSchedule:\n",
    "    def __init__(self):\n",
    "        self.train_lines = {}  # 用于存储所有车次的信息\n",
    "        self.fig, self.ax = plt.subplots()\n",
    "        self.ax.set_xlim(0, 60)  # 设置横坐标范围\n",
    "        plt.xticks(range(0, 61, 5))  # 设置横坐标刻度\n",
    "        plt.grid(True)  # 显示网格\n",
    "\n",
    "    def add_train_line(self, line_name):\n",
    "        \"\"\"新增车次，并初始化该车次的数据结构\"\"\"\n",
    "        if line_name not in self.train_lines:\n",
    "            self.train_lines[line_name] = {\n",
    "                \"stations\": {},\n",
    "                \"departure_times\": {},\n",
    "                \"station_positions\": {}\n",
    "            }\n",
    "        self.update_y_axis()\n",
    "\n",
    "    def add_station(self, line_name, station_name, station_time):\n",
    "        \"\"\"为指定车次添加站点\"\"\"\n",
    "        line = self.train_lines.get(line_name)\n",
    "        if line and station_name not in line[\"stations\"]:\n",
    "            position = len(line[\"stations\"]) + 1\n",
    "            line[\"station_positions\"][station_name] = position\n",
    "            line[\"stations\"][station_name] = station_time\n",
    "            line[\"departure_times\"][station_name] = station_time\n",
    "        self.update_y_axis()\n",
    "\n",
    "    def connect_stations(self, line_name, station1, station2):\n",
    "        \"\"\"连接指定车次的两个站点\"\"\"\n",
    "        line = self.train_lines.get(line_name)\n",
    "        if line and station1 in line[\"departure_times\"] and station2 in line[\"stations\"]:\n",
    "            y1, y2 = line[\"station_positions\"][station1], line[\"station_positions\"][station2]\n",
    "            x1, x2 = line[\"departure_times\"][station1], line[\"stations\"][station2]\n",
    "            self.ax.plot([x1, x2], [y1, y2], 'b-')\n",
    "\n",
    "    def add_stop_duration(self, line_name, station, duration):\n",
    "        \"\"\"为指定车次的站点添加停留时间\"\"\"\n",
    "        line = self.train_lines.get(line_name)\n",
    "        if line and station in line[\"stations\"]:\n",
    "            y_position = line[\"station_positions\"][station]\n",
    "            x_start = line[\"stations\"][station]\n",
    "            x_end = x_start + duration\n",
    "            self.ax.plot([x_start, x_end], [y_position, y_position], 'r-')\n",
    "            line[\"departure_times\"][station] = x_end\n",
    "\n",
    "    def update_y_axis(self):\n",
    "        \"\"\"更新y轴，以显示所有车次的所有站点名称作为y轴的标签\"\"\"\n",
    "        all_station_names = set()\n",
    "        for line in self.train_lines.values():\n",
    "            all_station_names.update(line[\"station_positions\"].keys())\n",
    "\n",
    "        sorted_station_names = sorted(list(all_station_names))\n",
    "        station_position_mapping = {name: i+1 for i, name in enumerate(sorted_station_names)}\n",
    "\n",
    "        # 更新每个车次的站点位置信息\n",
    "        for line in self.train_lines.values():\n",
    "            for station_name in line[\"station_positions\"].keys():\n",
    "                line[\"station_positions\"][station_name] = station_position_mapping[station_name]\n",
    "\n",
    "        if sorted_station_names:\n",
    "            self.ax.set_ylim(0, len(sorted_station_names) + 1)\n",
    "            plt.yticks(range(1, len(sorted_station_names) + 1), sorted_station_names)\n",
    "        else:\n",
    "            self.ax.set_ylim(0, 1)\n",
    "            plt.yticks([])\n",
    "\n",
    "        self.ax.invert_yaxis()  # 倒置y轴\n",
    "\n",
    "    def show(self):\n",
    "        \"\"\"显示图表\"\"\"\n",
    "        plt.show()\n"
   ]
  },
  {
   "cell_type": "code",
   "execution_count": 23,
   "id": "1e925b19",
   "metadata": {},
   "outputs": [
    {
     "data": {
      "image/png": "[encoded data removed]",
      "text/plain": [
       "<Figure size 640x480 with 1 Axes>"
      ]
     },
     "metadata": {},
     "output_type": "display_data"
    }
   ],
   "source": [
    "# 实例化TrainSchedule\n",
    "schedule = TrainSchedule()\n",
    "\n",
    "# 添加车次\n",
    "schedule.add_train_line('Train A')\n",
    "schedule.add_train_line('Train B')\n",
    "\n",
    "# 为车次A添加站点及停留时间\n",
    "schedule.add_station('Train A', 'station1', 5)\n",
    "schedule.add_stop_duration('Train A', 'station1', 1)\n",
    "schedule.add_station('Train A', 'station2', 10)\n",
    "schedule.add_stop_duration('Train A', 'station2', 1)\n",
    "schedule.add_station('Train A', 'station3', 20)\n",
    "schedule.add_stop_duration('Train A', 'station3', 1)\n",
    "schedule.add_station('Train A', 'station4', 30)\n",
    "schedule.add_stop_duration('Train A', 'station4', 1)\n",
    "schedule.add_station('Train A', 'station5', 35)\n",
    "\n",
    "# 连接Train A的站点\n",
    "schedule.connect_stations('Train A', 'station1', 'station2')\n",
    "schedule.connect_stations('Train A', 'station2', 'station3')\n",
    "schedule.connect_stations('Train A', 'station3', 'station4')\n",
    "schedule.connect_stations('Train A', 'station4', 'station5')\n",
    "\n",
    "# 为车次B添加站点及停留时间\n",
    "schedule.add_station('Train B', 'station1', 10)\n",
    "schedule.add_stop_duration('Train B', 'station1', 1)\n",
    "schedule.add_station('Train B', 'station2', 15)\n",
    "schedule.add_stop_duration('Train B', 'station2', 1)\n",
    "schedule.add_station('Train B', 'station3', 25)\n",
    "schedule.add_stop_duration('Train B', 'station3', 1)\n",
    "\n",
    "# 连接Train B的站点\n",
    "schedule.connect_stations('Train B', 'station1', 'station2')\n",
    "schedule.connect_stations('Train B', 'station2', 'station3')\n",
    "\n",
    "# 显示图表\n",
    "schedule.show()"
   ]
  },
  {
   "cell_type": "code",
   "execution_count": null,
   "id": "d5c010f4",
   "metadata": {},
   "outputs": [],
   "source": []
  },
  {
   "cell_type": "code",
   "execution_count": null,
   "id": "60cc2453",
   "metadata": {},
   "outputs": [],
   "source": []
  },
  {
   "cell_type": "code",
   "execution_count": null,
   "id": "ac88e6e3",
   "metadata": {},
   "outputs": [],
   "source": []
  },
  {
   "cell_type": "code",
   "execution_count": null,
   "id": "760fca85",
   "metadata": {},
   "outputs": [],
   "source": []
  },
  {
   "cell_type": "code",
   "execution_count": 5,
   "id": "ed90690f",
   "metadata": {
    "scrolled": true
   },
   "outputs": [
    {
     "name": "stdout",
     "output_type": "stream",
     "text": [
      "a+\b\n",
      "a+\\b\n"
     ]
    }
   ],
   "source": [
    "print('a+\\b');\n",
    "print(r'a+\\b');"
   ]
  }
 ],
 "metadata": {
  "kernelspec": {
   "display_name": "Python 3 (ipykernel)",
   "language": "python",
   "name": "python3"
  },
  "language_info": {
   "codemirror_mode": {
    "name": "ipython",
    "version": 3
   },
   "file_extension": ".py",
   "mimetype": "text/x-python",
   "name": "python",
   "nbconvert_exporter": "python",
   "pygments_lexer": "ipython3",
   "version": "3.10.9"
  }
 },
 "nbformat": 4,
 "nbformat_minor": 5
}
